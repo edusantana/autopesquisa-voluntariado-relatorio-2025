{
 "cells": [
  {
   "cell_type": "markdown",
   "metadata": {},
   "source": [
    "# Relatório de autopesquisa do voluntariado\n",
    "\n",
    "Eduardo de Santana Medeiros (Editares, ISIC, Juriscons)\n",
    "\n",
    "## Section\n",
    "\n",
    "This is a simple placeholder for the manuscript’s main document \\[@knuth84\\]."
   ],
   "id": "6732ec33-9c2c-4ab0-ac54-330485f12fa6"
  },
  {
   "cell_type": "code",
   "execution_count": null,
   "metadata": {},
   "outputs": [
    {
     "output_type": "stream",
     "name": "stdout",
     "text": [
      "[1] 2"
     ]
    }
   ],
   "source": [
    "1 + 1"
   ],
   "id": "1d27683f-bf34-418d-9307-5de743ec5626"
  },
  {
   "cell_type": "markdown",
   "metadata": {},
   "source": [
    "# Instituições\n",
    "\n",
    "# ISIC\n",
    "\n",
    "# Juriscon\n",
    "\n",
    "# Editares\n",
    "\n",
    "## Atividades\n",
    "\n",
    "### Cartão de crédito\n",
    "\n",
    "## Ingresso no voluntariado"
   ],
   "id": "e91ea0ba-1beb-4941-8efb-933f36c91cb9"
  },
  {
   "cell_type": "code",
   "execution_count": null,
   "metadata": {
    "layout-align": "default"
   },
   "outputs": [
    {
     "output_type": "display_data",
     "metadata": {},
     "data": {
      "text/html": [
       "<pre class=\"mermaid mermaid-js\">timeline\n",
       "    title Ingresso nos Voluntariados\n",
       "    2025/4 : Convite para diagramação dos livros em Árabe (ISIC)\n",
       "         : Google\n",
       "    2025/5 : Convite para diagramação da revista Estado Mundial (Juriscons)\n",
       "    2025/7 : Convite para diagramação da revista bienal Gescons (Editares)\n",
       "</pre>"
      ]
     }
    }
   ],
   "source": [],
   "id": "1dc9b0fc-335c-4b44-99fb-6801ae9d3711"
  },
  {
   "cell_type": "markdown",
   "metadata": {},
   "source": [
    "## Nomes das Pessoas\n",
    "\n",
    "# Situações\n",
    "\n",
    "O que há em situações\n",
    "\n",
    "> **Note**\n",
    ">\n",
    "> Privacidade. Os nomes das pessoas foram alterados para manter a privacidade.\n",
    ">\n",
    "> Substituição. Para manter uma coerência ao longo do relatório, alguns nomes foram substituidos por nomes em Latim.\n",
    ">\n",
    "> <!-- \n",
    "> https://www.dicionariodenomesproprios.com.br/nomes-latim-femininos/\n",
    "> https://www.dicionariodenomesproprios.com.br/nomes-latim-masculinos/\n",
    "> -->\n",
    "\n",
    "#"
   ],
   "id": "bd349a7d-12dc-4fa5-8714-663827082c5c"
  },
  {
   "cell_type": "code",
   "execution_count": null,
   "metadata": {
    "layout-align": "default"
   },
   "outputs": [
    {
     "output_type": "display_data",
     "metadata": {},
     "data": {
      "text/html": [
       "<pre class=\"mermaid mermaid-js\">timeline\n",
       "    title History of Social Media Platform\n",
       "    2002 : LinkedIn\n",
       "    2004 : Facebook\n",
       "         : Google\n",
       "    2005 : YouTube\n",
       "    2006 : Twitter\n",
       "</pre>"
      ]
     }
    }
   ],
   "source": [],
   "id": "82fe7384-245e-4f7d-a822-a38b39073422"
  },
  {
   "cell_type": "markdown",
   "metadata": {},
   "source": [
    "# Linha do tempo"
   ],
   "id": "0ebdefa3-6f8d-4315-845d-5e9a58e5e6b9"
  },
  {
   "cell_type": "code",
   "execution_count": null,
   "metadata": {
    "layout-align": "default"
   },
   "outputs": [
    {
     "output_type": "display_data",
     "metadata": {},
     "data": {
      "text/html": [
       "<pre class=\"mermaid mermaid-js\">timeline\n",
       "    title History of Social Media Platform\n",
       "    2002 : LinkedIn\n",
       "    2004 : Facebook\n",
       "         : Google\n",
       "    2005 : YouTube\n",
       "    2006 : Twitter\n",
       "</pre>"
      ]
     }
    }
   ],
   "source": [],
   "id": "c94e6916-089f-45bf-b714-4694d2004b6b"
  }
 ],
 "nbformat": 4,
 "nbformat_minor": 5,
 "metadata": {}
}
