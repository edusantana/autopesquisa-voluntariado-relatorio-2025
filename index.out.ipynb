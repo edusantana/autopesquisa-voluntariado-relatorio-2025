{
 "cells": [
  {
   "cell_type": "markdown",
   "metadata": {},
   "source": [
    "# Relatório de autopesquisa do voluntariado\n",
    "\n",
    "Eduardo de Santana Medeiros (Editares, ISIC, Juriscons)\n",
    "\n",
    "## Section\n",
    "\n",
    "This is a simple placeholder for the manuscript’s main document ([Knuth 1984](#ref-knuth84))."
   ],
   "id": "ea3f501b-c419-4463-bf4f-4806de96f797"
  },
  {
   "cell_type": "code",
   "execution_count": null,
   "metadata": {},
   "outputs": [
    {
     "output_type": "stream",
     "name": "stdout",
     "text": [
      "[1] 2"
     ]
    }
   ],
   "source": [
    "1 + 1"
   ],
   "id": "9b265158-d0b8-4fdb-a855-2da5552442e7"
  },
  {
   "cell_type": "markdown",
   "metadata": {},
   "source": [
    "# Instituições\n",
    "\n",
    "# ISIC\n",
    "\n",
    "# Juriscon\n",
    "\n",
    "# Editares\n",
    "\n",
    "## Atividades\n",
    "\n",
    "### Cartão de crédito\n",
    "\n",
    "## Ingresso no voluntariado"
   ],
   "id": "1b7a98d0-6071-4e39-930a-ca95235a6bef"
  },
  {
   "cell_type": "code",
   "execution_count": null,
   "metadata": {
    "layout-align": "default"
   },
   "outputs": [
    {
     "output_type": "display_data",
     "metadata": {},
     "data": {
      "text/html": [
       "<pre class=\"mermaid mermaid-js\">timeline\n",
       "    title Ingresso nos Voluntariados\n",
       "    2025/4 : Convite para diagramação dos livros em Árabe (ISIC)\n",
       "         : Google\n",
       "    2025/5 : Convite para diagramação da revista Estado Mundial (Juriscons)\n",
       "    2025/7 : Convite para diagramação da revista bienal Gescons (Editares)\n",
       "</pre>"
      ]
     }
    }
   ],
   "source": [],
   "id": "6c64dcb1-a984-48f7-9056-e29a8a508bd3"
  },
  {
   "cell_type": "markdown",
   "metadata": {},
   "source": [
    "## Nomes das Pessoas\n",
    "\n",
    "# Situações\n",
    "\n",
    "O que há em situações\n",
    "\n",
    "> **Note**\n",
    ">\n",
    "> Privacidade. Os nomes das pessoas foram alterados para manter a privacidade.\n",
    ">\n",
    "> Substituição. Para manter uma coerência ao longo do relatório, alguns nomes foram substituidos por nomes em Latim.\n",
    ">\n",
    "> <!-- \n",
    "> https://www.dicionariodenomesproprios.com.br/nomes-latim-femininos/\n",
    "> https://www.dicionariodenomesproprios.com.br/nomes-latim-masculinos/\n",
    "> -->\n",
    "\n",
    "#"
   ],
   "id": "1b248d7c-37e0-4c1f-8ba4-d5d2666bf1c7"
  },
  {
   "cell_type": "code",
   "execution_count": null,
   "metadata": {
    "layout-align": "default"
   },
   "outputs": [
    {
     "output_type": "display_data",
     "metadata": {},
     "data": {
      "text/html": [
       "<pre class=\"mermaid mermaid-js\">timeline\n",
       "    title History of Social Media Platform\n",
       "    2002 : LinkedIn\n",
       "    2004 : Facebook\n",
       "         : Google\n",
       "    2005 : YouTube\n",
       "    2006 : Twitter\n",
       "</pre>"
      ]
     }
    }
   ],
   "source": [],
   "id": "b2e1a56e-d401-4c5a-8d78-e8f45c975206"
  },
  {
   "cell_type": "markdown",
   "metadata": {},
   "source": [
    "# Linha do tempo"
   ],
   "id": "7bf209bd-8a84-4ccb-9100-5e8fca05c3e2"
  },
  {
   "cell_type": "code",
   "execution_count": null,
   "metadata": {
    "layout-align": "default"
   },
   "outputs": [
    {
     "output_type": "display_data",
     "metadata": {},
     "data": {
      "text/html": [
       "<pre class=\"mermaid mermaid-js\">timeline\n",
       "    title History of Social Media Platform\n",
       "    2002 : LinkedIn\n",
       "    2004 : Facebook\n",
       "         : Google\n",
       "    2005 : YouTube\n",
       "    2006 : Twitter\n",
       "</pre>"
      ]
     }
    }
   ],
   "source": [],
   "id": "38fd5cb3-9096-453c-83f1-236ad222db4c"
  },
  {
   "cell_type": "markdown",
   "metadata": {},
   "source": [
    "Knuth, Donald E. 1984. “Literate Programming.” *Comput. J.* 27 (2): 97–111. <https://doi.org/10.1093/comjnl/27.2.97>."
   ],
   "id": "6a7b070b-1f84-437f-a48a-132851f4cf62"
  }
 ],
 "nbformat": 4,
 "nbformat_minor": 5,
 "metadata": {}
}
